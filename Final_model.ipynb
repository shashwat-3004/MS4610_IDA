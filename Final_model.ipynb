{
 "cells": [
  {
   "cell_type": "markdown",
   "id": "45abbfa4",
   "metadata": {},
   "source": [
    "# Importing the Libraries"
   ]
  },
  {
   "cell_type": "code",
   "execution_count": 9,
   "id": "d60b06be",
   "metadata": {},
   "outputs": [],
   "source": [
    "import pandas as pd\n",
    "import numpy as np\n",
    "from imblearn.over_sampling import SMOTE\n",
    "from xgboost import XGBClassifier\n",
    "from sklearn.preprocessing import LabelEncoder\n",
    "from sklearn.model_selection import GridSearchCV\n",
    "from sklearn.ensemble import RandomForestClassifier"
   ]
  },
  {
   "cell_type": "markdown",
   "id": "79570c45",
   "metadata": {},
   "source": [
    "# Import the test & training data\n",
    "\n",
    "After performing the KNN-imputation(Done in R)"
   ]
  },
  {
   "cell_type": "code",
   "execution_count": 2,
   "id": "1dca760b",
   "metadata": {},
   "outputs": [],
   "source": [
    "train=pd.read_csv(\"train_complete.csv\")\n",
    "test=pd.read_csv(\"test_complete.csv\")"
   ]
  },
  {
   "cell_type": "markdown",
   "id": "ccf33586",
   "metadata": {},
   "source": [
    "# Further Data Pre-processing"
   ]
  },
  {
   "cell_type": "code",
   "execution_count": 3,
   "id": "b6d698d2",
   "metadata": {},
   "outputs": [],
   "source": [
    "application_key=test['application_key']"
   ]
  },
  {
   "cell_type": "code",
   "execution_count": 4,
   "id": "14eace8e",
   "metadata": {},
   "outputs": [],
   "source": [
    "train=train.drop(['Unnamed: 0','application_key'],axis=1)\n",
    "test=test.drop(['Unnamed: 0','application_key'],axis=1)"
   ]
  },
  {
   "cell_type": "markdown",
   "id": "5c72a35d",
   "metadata": {},
   "source": [
    "Encoding the **'mvar47'** column"
   ]
  },
  {
   "cell_type": "code",
   "execution_count": 5,
   "id": "cde83994",
   "metadata": {},
   "outputs": [],
   "source": [
    "le=LabelEncoder()\n",
    "train['mvar47']=le.fit_transform(train['mvar47'])\n",
    "test['mvar47']=le.fit_transform(test['mvar47'])\n",
    "\n"
   ]
  },
  {
   "cell_type": "code",
   "execution_count": null,
   "id": "745ab87d",
   "metadata": {},
   "outputs": [],
   "source": [
    "test=test.drop(['default_ind'],axis=1)"
   ]
  },
  {
   "cell_type": "markdown",
   "id": "3bfa0d12",
   "metadata": {},
   "source": [
    "### Separate out the target variable and feature from training set"
   ]
  },
  {
   "cell_type": "code",
   "execution_count": 6,
   "id": "aaf3bb7b",
   "metadata": {},
   "outputs": [],
   "source": [
    "train_label=train['default_ind']\n",
    "train_x=train.drop(['default_ind'],axis=1)"
   ]
  },
  {
   "cell_type": "markdown",
   "id": "fce244b3",
   "metadata": {},
   "source": [
    "# SMOTE"
   ]
  },
  {
   "cell_type": "code",
   "execution_count": 7,
   "id": "111647a2",
   "metadata": {},
   "outputs": [],
   "source": [
    "sm = SMOTE(random_state=42)\n",
    "train_x,train_label = sm.fit_resample(train_x, train_label)"
   ]
  },
  {
   "cell_type": "code",
   "execution_count": 8,
   "id": "ecbb63af",
   "metadata": {},
   "outputs": [
    {
     "data": {
      "text/html": [
       "<div>\n",
       "<style scoped>\n",
       "    .dataframe tbody tr th:only-of-type {\n",
       "        vertical-align: middle;\n",
       "    }\n",
       "\n",
       "    .dataframe tbody tr th {\n",
       "        vertical-align: top;\n",
       "    }\n",
       "\n",
       "    .dataframe thead th {\n",
       "        text-align: right;\n",
       "    }\n",
       "</style>\n",
       "<table border=\"1\" class=\"dataframe\">\n",
       "  <thead>\n",
       "    <tr style=\"text-align: right;\">\n",
       "      <th></th>\n",
       "      <th>mvar1</th>\n",
       "      <th>mvar2</th>\n",
       "      <th>mvar3</th>\n",
       "      <th>mvar4</th>\n",
       "      <th>mvar5</th>\n",
       "      <th>mvar6</th>\n",
       "      <th>mvar7</th>\n",
       "      <th>mvar8</th>\n",
       "      <th>mvar9</th>\n",
       "      <th>mvar10</th>\n",
       "      <th>...</th>\n",
       "      <th>mvar42</th>\n",
       "      <th>mvar43</th>\n",
       "      <th>mvar44</th>\n",
       "      <th>mvar45</th>\n",
       "      <th>mvar46</th>\n",
       "      <th>mvar48</th>\n",
       "      <th>mvar49</th>\n",
       "      <th>mvar50</th>\n",
       "      <th>mvar51</th>\n",
       "      <th>mvar47</th>\n",
       "    </tr>\n",
       "  </thead>\n",
       "  <tbody>\n",
       "    <tr>\n",
       "      <th>0</th>\n",
       "      <td>1696</td>\n",
       "      <td>1.654100</td>\n",
       "      <td>0.000000</td>\n",
       "      <td>0.000000</td>\n",
       "      <td>0.000000</td>\n",
       "      <td>0</td>\n",
       "      <td>6015</td>\n",
       "      <td>322</td>\n",
       "      <td>40369</td>\n",
       "      <td>18414</td>\n",
       "      <td>...</td>\n",
       "      <td>0.086960</td>\n",
       "      <td>10</td>\n",
       "      <td>0.638990</td>\n",
       "      <td>0</td>\n",
       "      <td>0</td>\n",
       "      <td>10</td>\n",
       "      <td>770</td>\n",
       "      <td>4</td>\n",
       "      <td>3080</td>\n",
       "      <td>0</td>\n",
       "    </tr>\n",
       "    <tr>\n",
       "      <th>1</th>\n",
       "      <td>1846</td>\n",
       "      <td>0.809500</td>\n",
       "      <td>0.000000</td>\n",
       "      <td>0.000000</td>\n",
       "      <td>0.000000</td>\n",
       "      <td>102</td>\n",
       "      <td>7532</td>\n",
       "      <td>3171</td>\n",
       "      <td>18234</td>\n",
       "      <td>13664</td>\n",
       "      <td>...</td>\n",
       "      <td>0.000000</td>\n",
       "      <td>13</td>\n",
       "      <td>0.638360</td>\n",
       "      <td>0</td>\n",
       "      <td>0</td>\n",
       "      <td>732</td>\n",
       "      <td>437</td>\n",
       "      <td>5</td>\n",
       "      <td>2185</td>\n",
       "      <td>1</td>\n",
       "    </tr>\n",
       "    <tr>\n",
       "      <th>2</th>\n",
       "      <td>1745</td>\n",
       "      <td>0.400100</td>\n",
       "      <td>0.000000</td>\n",
       "      <td>0.000000</td>\n",
       "      <td>0.000000</td>\n",
       "      <td>160</td>\n",
       "      <td>2536</td>\n",
       "      <td>160</td>\n",
       "      <td>5</td>\n",
       "      <td>2536</td>\n",
       "      <td>...</td>\n",
       "      <td>0.000000</td>\n",
       "      <td>1</td>\n",
       "      <td>1.000000</td>\n",
       "      <td>0</td>\n",
       "      <td>0</td>\n",
       "      <td>89</td>\n",
       "      <td>795</td>\n",
       "      <td>4</td>\n",
       "      <td>3180</td>\n",
       "      <td>0</td>\n",
       "    </tr>\n",
       "    <tr>\n",
       "      <th>3</th>\n",
       "      <td>1739</td>\n",
       "      <td>0.219300</td>\n",
       "      <td>0.000000</td>\n",
       "      <td>0.000000</td>\n",
       "      <td>0.000000</td>\n",
       "      <td>1982</td>\n",
       "      <td>26440</td>\n",
       "      <td>4955</td>\n",
       "      <td>20316</td>\n",
       "      <td>37013</td>\n",
       "      <td>...</td>\n",
       "      <td>0.153850</td>\n",
       "      <td>3</td>\n",
       "      <td>0.532410</td>\n",
       "      <td>0</td>\n",
       "      <td>0</td>\n",
       "      <td>3</td>\n",
       "      <td>755</td>\n",
       "      <td>4</td>\n",
       "      <td>3020</td>\n",
       "      <td>1</td>\n",
       "    </tr>\n",
       "    <tr>\n",
       "      <th>4</th>\n",
       "      <td>1787</td>\n",
       "      <td>0.011800</td>\n",
       "      <td>0.225000</td>\n",
       "      <td>0.000000</td>\n",
       "      <td>0.000000</td>\n",
       "      <td>5451</td>\n",
       "      <td>5494</td>\n",
       "      <td>5494</td>\n",
       "      <td>7987</td>\n",
       "      <td>4696</td>\n",
       "      <td>...</td>\n",
       "      <td>0.000000</td>\n",
       "      <td>1</td>\n",
       "      <td>0.926650</td>\n",
       "      <td>0</td>\n",
       "      <td>0</td>\n",
       "      <td>5</td>\n",
       "      <td>425</td>\n",
       "      <td>4</td>\n",
       "      <td>1700</td>\n",
       "      <td>1</td>\n",
       "    </tr>\n",
       "    <tr>\n",
       "      <th>...</th>\n",
       "      <td>...</td>\n",
       "      <td>...</td>\n",
       "      <td>...</td>\n",
       "      <td>...</td>\n",
       "      <td>...</td>\n",
       "      <td>...</td>\n",
       "      <td>...</td>\n",
       "      <td>...</td>\n",
       "      <td>...</td>\n",
       "      <td>...</td>\n",
       "      <td>...</td>\n",
       "      <td>...</td>\n",
       "      <td>...</td>\n",
       "      <td>...</td>\n",
       "      <td>...</td>\n",
       "      <td>...</td>\n",
       "      <td>...</td>\n",
       "      <td>...</td>\n",
       "      <td>...</td>\n",
       "      <td>...</td>\n",
       "      <td>...</td>\n",
       "    </tr>\n",
       "    <tr>\n",
       "      <th>118285</th>\n",
       "      <td>1741</td>\n",
       "      <td>0.404364</td>\n",
       "      <td>0.135338</td>\n",
       "      <td>0.000000</td>\n",
       "      <td>0.000000</td>\n",
       "      <td>59</td>\n",
       "      <td>275</td>\n",
       "      <td>275</td>\n",
       "      <td>374</td>\n",
       "      <td>329</td>\n",
       "      <td>...</td>\n",
       "      <td>0.853742</td>\n",
       "      <td>1</td>\n",
       "      <td>0.697545</td>\n",
       "      <td>0</td>\n",
       "      <td>0</td>\n",
       "      <td>856</td>\n",
       "      <td>615</td>\n",
       "      <td>4</td>\n",
       "      <td>2462</td>\n",
       "      <td>0</td>\n",
       "    </tr>\n",
       "    <tr>\n",
       "      <th>118286</th>\n",
       "      <td>1611</td>\n",
       "      <td>1.040152</td>\n",
       "      <td>20.770818</td>\n",
       "      <td>0.077823</td>\n",
       "      <td>7.833541</td>\n",
       "      <td>73</td>\n",
       "      <td>73</td>\n",
       "      <td>73</td>\n",
       "      <td>6698</td>\n",
       "      <td>77</td>\n",
       "      <td>...</td>\n",
       "      <td>0.401864</td>\n",
       "      <td>0</td>\n",
       "      <td>0.993275</td>\n",
       "      <td>0</td>\n",
       "      <td>0</td>\n",
       "      <td>2</td>\n",
       "      <td>508</td>\n",
       "      <td>4</td>\n",
       "      <td>2033</td>\n",
       "      <td>0</td>\n",
       "    </tr>\n",
       "    <tr>\n",
       "      <th>118287</th>\n",
       "      <td>1786</td>\n",
       "      <td>0.800029</td>\n",
       "      <td>2.282433</td>\n",
       "      <td>0.000000</td>\n",
       "      <td>0.000000</td>\n",
       "      <td>532</td>\n",
       "      <td>5968</td>\n",
       "      <td>3853</td>\n",
       "      <td>70788</td>\n",
       "      <td>21575</td>\n",
       "      <td>...</td>\n",
       "      <td>0.153853</td>\n",
       "      <td>11</td>\n",
       "      <td>0.428530</td>\n",
       "      <td>0</td>\n",
       "      <td>0</td>\n",
       "      <td>38</td>\n",
       "      <td>437</td>\n",
       "      <td>4</td>\n",
       "      <td>2105</td>\n",
       "      <td>0</td>\n",
       "    </tr>\n",
       "    <tr>\n",
       "      <th>118288</th>\n",
       "      <td>1620</td>\n",
       "      <td>0.792491</td>\n",
       "      <td>2.438489</td>\n",
       "      <td>0.000000</td>\n",
       "      <td>0.827535</td>\n",
       "      <td>8</td>\n",
       "      <td>920</td>\n",
       "      <td>102</td>\n",
       "      <td>1191</td>\n",
       "      <td>169</td>\n",
       "      <td>...</td>\n",
       "      <td>0.561774</td>\n",
       "      <td>2</td>\n",
       "      <td>0.444989</td>\n",
       "      <td>0</td>\n",
       "      <td>0</td>\n",
       "      <td>111</td>\n",
       "      <td>598</td>\n",
       "      <td>4</td>\n",
       "      <td>2395</td>\n",
       "      <td>0</td>\n",
       "    </tr>\n",
       "    <tr>\n",
       "      <th>118289</th>\n",
       "      <td>1610</td>\n",
       "      <td>1.999631</td>\n",
       "      <td>20.256949</td>\n",
       "      <td>2.399911</td>\n",
       "      <td>13.054966</td>\n",
       "      <td>6</td>\n",
       "      <td>332</td>\n",
       "      <td>6</td>\n",
       "      <td>1227</td>\n",
       "      <td>481</td>\n",
       "      <td>...</td>\n",
       "      <td>0.857186</td>\n",
       "      <td>1</td>\n",
       "      <td>0.399432</td>\n",
       "      <td>0</td>\n",
       "      <td>0</td>\n",
       "      <td>230</td>\n",
       "      <td>718</td>\n",
       "      <td>4</td>\n",
       "      <td>2875</td>\n",
       "      <td>0</td>\n",
       "    </tr>\n",
       "  </tbody>\n",
       "</table>\n",
       "<p>118290 rows × 51 columns</p>\n",
       "</div>"
      ],
      "text/plain": [
       "        mvar1     mvar2      mvar3     mvar4      mvar5  mvar6  mvar7  mvar8  \\\n",
       "0        1696  1.654100   0.000000  0.000000   0.000000      0   6015    322   \n",
       "1        1846  0.809500   0.000000  0.000000   0.000000    102   7532   3171   \n",
       "2        1745  0.400100   0.000000  0.000000   0.000000    160   2536    160   \n",
       "3        1739  0.219300   0.000000  0.000000   0.000000   1982  26440   4955   \n",
       "4        1787  0.011800   0.225000  0.000000   0.000000   5451   5494   5494   \n",
       "...       ...       ...        ...       ...        ...    ...    ...    ...   \n",
       "118285   1741  0.404364   0.135338  0.000000   0.000000     59    275    275   \n",
       "118286   1611  1.040152  20.770818  0.077823   7.833541     73     73     73   \n",
       "118287   1786  0.800029   2.282433  0.000000   0.000000    532   5968   3853   \n",
       "118288   1620  0.792491   2.438489  0.000000   0.827535      8    920    102   \n",
       "118289   1610  1.999631  20.256949  2.399911  13.054966      6    332      6   \n",
       "\n",
       "        mvar9  mvar10  ...    mvar42  mvar43    mvar44  mvar45  mvar46  \\\n",
       "0       40369   18414  ...  0.086960      10  0.638990       0       0   \n",
       "1       18234   13664  ...  0.000000      13  0.638360       0       0   \n",
       "2           5    2536  ...  0.000000       1  1.000000       0       0   \n",
       "3       20316   37013  ...  0.153850       3  0.532410       0       0   \n",
       "4        7987    4696  ...  0.000000       1  0.926650       0       0   \n",
       "...       ...     ...  ...       ...     ...       ...     ...     ...   \n",
       "118285    374     329  ...  0.853742       1  0.697545       0       0   \n",
       "118286   6698      77  ...  0.401864       0  0.993275       0       0   \n",
       "118287  70788   21575  ...  0.153853      11  0.428530       0       0   \n",
       "118288   1191     169  ...  0.561774       2  0.444989       0       0   \n",
       "118289   1227     481  ...  0.857186       1  0.399432       0       0   \n",
       "\n",
       "        mvar48  mvar49  mvar50  mvar51  mvar47  \n",
       "0           10     770       4    3080       0  \n",
       "1          732     437       5    2185       1  \n",
       "2           89     795       4    3180       0  \n",
       "3            3     755       4    3020       1  \n",
       "4            5     425       4    1700       1  \n",
       "...        ...     ...     ...     ...     ...  \n",
       "118285     856     615       4    2462       0  \n",
       "118286       2     508       4    2033       0  \n",
       "118287      38     437       4    2105       0  \n",
       "118288     111     598       4    2395       0  \n",
       "118289     230     718       4    2875       0  \n",
       "\n",
       "[118290 rows x 51 columns]"
      ]
     },
     "execution_count": 8,
     "metadata": {},
     "output_type": "execute_result"
    }
   ],
   "source": [
    "train_x"
   ]
  },
  {
   "cell_type": "markdown",
   "id": "8109ed3a",
   "metadata": {},
   "source": [
    "# Model Building (Random Forest & XGBoost)"
   ]
  },
  {
   "cell_type": "markdown",
   "id": "00b5d119",
   "metadata": {},
   "source": [
    "## Random Forest"
   ]
  },
  {
   "cell_type": "code",
   "execution_count": 183,
   "id": "1b7595e8",
   "metadata": {},
   "outputs": [],
   "source": [
    "rf=RandomForestClassifier()\n"
   ]
  },
  {
   "cell_type": "markdown",
   "id": "36373902",
   "metadata": {},
   "source": [
    "## Parameter Grid"
   ]
  },
  {
   "cell_type": "code",
   "execution_count": 180,
   "id": "99da6430",
   "metadata": {},
   "outputs": [
    {
     "data": {
      "text/plain": [
       "RandomForestClassifier(max_depth=12, n_estimators=280)"
      ]
     },
     "execution_count": 180,
     "metadata": {},
     "output_type": "execute_result"
    }
   ],
   "source": [
    "n_estimators = [int(x) for x in np.linspace(start = 100, stop = 300, num = 11)]\n",
    "max_depth = [int(x) for x in np.linspace(4, 20, num = 9)]\n",
    "\n",
    "\n",
    "param_grid_rf = {'n_estimators': n_estimators,\n",
    "               'max_depth': max_depth,\n",
    "               }"
   ]
  },
  {
   "cell_type": "markdown",
   "id": "0f3406c7",
   "metadata": {},
   "source": [
    "## Grid Search CV"
   ]
  },
  {
   "cell_type": "code",
   "execution_count": null,
   "id": "89dc9dc2",
   "metadata": {},
   "outputs": [],
   "source": [
    "grid_search = GridSearchCV(estimator = rf, param_grid = param_grid_rf, \n",
    "                          cv = 5, n_jobs = -1, verbose = 2)"
   ]
  },
  {
   "cell_type": "code",
   "execution_count": null,
   "id": "e68b0b62",
   "metadata": {},
   "outputs": [],
   "source": [
    "model=grid_search.fit(train_x, train_label)"
   ]
  },
  {
   "cell_type": "markdown",
   "id": "82dd59e8",
   "metadata": {},
   "source": [
    "**Best Parameters obtained and score**"
   ]
  },
  {
   "cell_type": "code",
   "execution_count": null,
   "id": "1eea9eef",
   "metadata": {},
   "outputs": [],
   "source": [
    "model.best_params_"
   ]
  },
  {
   "cell_type": "code",
   "execution_count": null,
   "id": "b6397d14",
   "metadata": {},
   "outputs": [],
   "source": [
    "model.best_score_"
   ]
  },
  {
   "cell_type": "code",
   "execution_count": null,
   "id": "29b204b2",
   "metadata": {},
   "outputs": [],
   "source": [
    "best_model_rf=model.best_estimator_"
   ]
  },
  {
   "cell_type": "code",
   "execution_count": null,
   "id": "ff6b4afc",
   "metadata": {},
   "outputs": [],
   "source": [
    "best_model_rf"
   ]
  },
  {
   "cell_type": "markdown",
   "id": "9e771239",
   "metadata": {},
   "source": [
    "## Prediction on test set"
   ]
  },
  {
   "cell_type": "code",
   "execution_count": 153,
   "id": "538e335f",
   "metadata": {},
   "outputs": [],
   "source": [
    "predictions_rf=best_model_rf.predict(test)"
   ]
  },
  {
   "cell_type": "markdown",
   "id": "5e5c2325",
   "metadata": {},
   "source": [
    "## Dataframe for submission"
   ]
  },
  {
   "cell_type": "code",
   "execution_count": 154,
   "id": "3f0c7fc7",
   "metadata": {},
   "outputs": [],
   "source": [
    "df1=pd.DataFrame(predictions_rf)\n",
    "df2=pd.DataFrame(application_key,dtype=np.int64)"
   ]
  },
  {
   "cell_type": "code",
   "execution_count": 155,
   "id": "85db685f",
   "metadata": {},
   "outputs": [],
   "source": [
    "frames_rf = [df2, df1]\n",
    "result_rf = pd.concat(frames_rf,axis=1)"
   ]
  },
  {
   "cell_type": "code",
   "execution_count": 157,
   "id": "f1741491",
   "metadata": {},
   "outputs": [],
   "source": [
    "result_rf.to_csv('Data_poltergeists_rf.csv')"
   ]
  },
  {
   "cell_type": "markdown",
   "id": "1586805b",
   "metadata": {},
   "source": [
    "# XGBoost"
   ]
  },
  {
   "cell_type": "code",
   "execution_count": null,
   "id": "9b0aeec1",
   "metadata": {},
   "outputs": [],
   "source": [
    "xg=XGBClassifier()"
   ]
  },
  {
   "cell_type": "markdown",
   "id": "7e990fd2",
   "metadata": {},
   "source": [
    "## Parameter Grid"
   ]
  },
  {
   "cell_type": "code",
   "execution_count": null,
   "id": "cc1cb7ea",
   "metadata": {},
   "outputs": [],
   "source": [
    "n_estimators = [int(x) for x in np.linspace(start = 40, stop = 160, num = 7)]\n",
    "max_depth = [int(x) for x in np.linspace(4,12, num =5)]\n",
    "learning_rate=[0.05,0.3]\n",
    "\n",
    "param_grid_xg = {'n_estimators': n_estimators,\n",
    "               'max_depth': max_depth,\n",
    "              'learning_rate':learning_rate,\n",
    "             }"
   ]
  },
  {
   "cell_type": "markdown",
   "id": "b931d949",
   "metadata": {},
   "source": [
    "## Grid Search CV"
   ]
  },
  {
   "cell_type": "code",
   "execution_count": null,
   "id": "04efdfd4",
   "metadata": {},
   "outputs": [],
   "source": [
    "grid_search = GridSearchCV(estimator = xg, param_grid = param_grid_xg, \n",
    "                          cv = 5, n_jobs = -1, verbose = 2)"
   ]
  },
  {
   "cell_type": "code",
   "execution_count": null,
   "id": "1ef6e33a",
   "metadata": {},
   "outputs": [],
   "source": [
    "model_xg=grid_search.fit(X_train, y_train)"
   ]
  },
  {
   "cell_type": "markdown",
   "id": "6d733777",
   "metadata": {},
   "source": [
    "## Best parameter and score"
   ]
  },
  {
   "cell_type": "code",
   "execution_count": null,
   "id": "fc5b2191",
   "metadata": {},
   "outputs": [],
   "source": [
    "model_xg.best_params_"
   ]
  },
  {
   "cell_type": "code",
   "execution_count": null,
   "id": "8f27ffdc",
   "metadata": {},
   "outputs": [],
   "source": [
    "model_xg.best_score_"
   ]
  },
  {
   "cell_type": "code",
   "execution_count": null,
   "id": "322baab7",
   "metadata": {},
   "outputs": [],
   "source": [
    "xg_best=model_xg.best_estimator_"
   ]
  },
  {
   "cell_type": "markdown",
   "id": "cd7870f1",
   "metadata": {},
   "source": [
    "## Prediction"
   ]
  },
  {
   "cell_type": "code",
   "execution_count": null,
   "id": "84daf6c0",
   "metadata": {},
   "outputs": [],
   "source": [
    "prediction_xg=xg_best.predict(test)"
   ]
  },
  {
   "cell_type": "code",
   "execution_count": null,
   "id": "727a89a3",
   "metadata": {},
   "outputs": [],
   "source": [
    "df3=pd.DataFrame(prediction_xg)\n",
    "df4=pd.DataFrame(application_key,dtype=np.int64)"
   ]
  },
  {
   "cell_type": "code",
   "execution_count": null,
   "id": "d922a6f7",
   "metadata": {},
   "outputs": [],
   "source": [
    "frames_xg = [df4, df3]\n",
    "result_xg = pd.concat(frames_xg,axis=1)"
   ]
  },
  {
   "cell_type": "code",
   "execution_count": null,
   "id": "2f49616d",
   "metadata": {},
   "outputs": [],
   "source": [
    "result_xg.to_csv('Data_poltergeists_xg.csv')\n"
   ]
  }
 ],
 "metadata": {
  "kernelspec": {
   "display_name": "Python 3 (ipykernel)",
   "language": "python",
   "name": "python3"
  },
  "language_info": {
   "codemirror_mode": {
    "name": "ipython",
    "version": 3
   },
   "file_extension": ".py",
   "mimetype": "text/x-python",
   "name": "python",
   "nbconvert_exporter": "python",
   "pygments_lexer": "ipython3",
   "version": "3.9.13"
  }
 },
 "nbformat": 4,
 "nbformat_minor": 5
}
